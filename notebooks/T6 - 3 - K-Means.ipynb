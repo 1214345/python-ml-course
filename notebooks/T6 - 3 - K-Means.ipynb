{
 "cells": [
  {
   "cell_type": "markdown",
   "metadata": {},
   "source": [
    "# El método de k-means"
   ]
  },
  {
   "cell_type": "code",
   "execution_count": 1,
   "metadata": {},
   "outputs": [],
   "source": [
    "import numpy as np"
   ]
  },
  {
   "cell_type": "code",
   "execution_count": 2,
   "metadata": {},
   "outputs": [
    {
     "data": {
      "text/plain": [
       "array([[9.49759869e-01, 8.74484975e-01, 2.26322177e-01],\n",
       "       [5.07608531e-01, 8.58059486e-01, 9.47825856e-01],\n",
       "       [4.89858674e-01, 3.34987768e-01, 8.79065745e-01],\n",
       "       [1.78185735e-01, 6.91454157e-01, 4.93286199e-01],\n",
       "       [8.10247823e-01, 5.43188836e-01, 4.70698841e-01],\n",
       "       [7.77129970e-01, 5.19777327e-01, 1.49186759e-02],\n",
       "       [4.70833658e-01, 6.58168514e-01, 7.69230678e-01],\n",
       "       [3.10764218e-01, 8.79452774e-01, 9.08764806e-01],\n",
       "       [2.14812719e-01, 4.40556409e-01, 3.82250008e-01],\n",
       "       [1.76289478e-01, 7.42610301e-01, 5.46515218e-01],\n",
       "       [6.05500256e-01, 3.26414519e-01, 2.02944374e-01],\n",
       "       [3.72093632e-01, 1.12328962e-01, 2.14945708e-01],\n",
       "       [8.63306263e-01, 9.07669958e-01, 5.59322920e-02],\n",
       "       [2.56102385e-01, 6.52814391e-01, 7.90822908e-01],\n",
       "       [1.96574856e-02, 3.35598207e-01, 6.60720951e-01],\n",
       "       [7.05482212e-01, 1.60764974e-01, 5.91965931e-01],\n",
       "       [6.26505906e-01, 7.72428940e-01, 9.29431313e-01],\n",
       "       [5.37531622e-01, 7.60961882e-01, 1.73723236e-01],\n",
       "       [8.25361450e-01, 9.80880281e-01, 7.56277729e-01],\n",
       "       [8.42090963e-01, 1.73443094e-01, 1.31356954e-01],\n",
       "       [4.23615476e-01, 5.59360408e-01, 8.96937851e-01],\n",
       "       [2.10081405e-04, 1.71704427e-01, 6.56181027e-01],\n",
       "       [9.29759555e-01, 7.16179302e-02, 5.20804757e-01],\n",
       "       [7.93382857e-01, 4.96128877e-01, 8.71941669e-01],\n",
       "       [1.65197500e-01, 1.10040366e-01, 1.94863302e-01],\n",
       "       [9.75059091e-01, 1.32958668e-01, 1.23709567e-01],\n",
       "       [9.88072439e-01, 7.82381432e-01, 4.72092386e-01],\n",
       "       [9.33518994e-01, 1.27676018e-01, 8.10598442e-01],\n",
       "       [3.07785435e-01, 6.21365516e-01, 1.25136799e-01],\n",
       "       [8.53769129e-01, 8.24586520e-01, 8.80485665e-01]])"
      ]
     },
     "execution_count": 2,
     "metadata": {},
     "output_type": "execute_result"
    }
   ],
   "source": [
    "data = np.random.random(90).reshape(30,3)\n",
    "data"
   ]
  },
  {
   "cell_type": "code",
   "execution_count": 3,
   "metadata": {},
   "outputs": [
    {
     "data": {
      "text/plain": [
       "array([[0.17818573, 0.69145416, 0.4932862 ],\n",
       "       [0.92975956, 0.07161793, 0.52080476]])"
      ]
     },
     "execution_count": 3,
     "metadata": {},
     "output_type": "execute_result"
    }
   ],
   "source": [
    "c1 = np.random.choice(range(len(data)))\n",
    "c2 = np.random.choice(range(len(data)))\n",
    "clust_centers = np.vstack([data[c1], data[c2]])\n",
    "clust_centers"
   ]
  },
  {
   "cell_type": "code",
   "execution_count": 4,
   "metadata": {},
   "outputs": [],
   "source": [
    "from scipy.cluster.vq import vq"
   ]
  },
  {
   "cell_type": "code",
   "execution_count": 5,
   "metadata": {},
   "outputs": [
    {
     "data": {
      "text/plain": [
       "(array([0, 0, 0, 0, 1, 1, 0, 0, 0, 0, 1, 1, 0, 0, 0, 1, 0, 0, 0, 1, 0, 0,\n",
       "        1, 1, 0, 1, 1, 1, 0, 0]),\n",
       " array([0.83671782, 0.58556213, 0.61076523, 0.        , 0.48905294,\n",
       "        0.69286605, 0.40360389, 0.47491368, 0.27680363, 0.07385036,\n",
       "        0.52067323, 0.63733698, 0.84108136, 0.3099873 , 0.42402719,\n",
       "        0.25161764, 0.63069046, 0.48588196, 0.75615371, 0.41197541,\n",
       "        0.49052948, 0.57301818, 0.        , 0.5675432 , 0.65365657,\n",
       "        0.4043505 , 0.71481329, 0.29518981, 0.39653812, 0.78997505]))"
      ]
     },
     "execution_count": 5,
     "metadata": {},
     "output_type": "execute_result"
    }
   ],
   "source": [
    "clusters = vq(data, clust_centers)\n",
    "clusters"
   ]
  },
  {
   "cell_type": "code",
   "execution_count": 6,
   "metadata": {},
   "outputs": [
    {
     "data": {
      "text/plain": [
       "array([0, 0, 0, 0, 1, 1, 0, 0, 0, 0, 1, 1, 0, 0, 0, 1, 0, 0, 0, 1, 0, 0,\n",
       "       1, 1, 0, 1, 1, 1, 0, 0])"
      ]
     },
     "execution_count": 6,
     "metadata": {},
     "output_type": "execute_result"
    }
   ],
   "source": [
    "labels = clusters[0]\n",
    "labels"
   ]
  },
  {
   "cell_type": "code",
   "execution_count": 7,
   "metadata": {},
   "outputs": [],
   "source": [
    "import plotly.plotly as py\n",
    "import plotly.graph_objs as go\n",
    "import plotly.offline as ply"
   ]
  },
  {
   "cell_type": "code",
   "execution_count": null,
   "metadata": {},
   "outputs": [],
   "source": [
    "x = []\n",
    "y = []\n",
    "z = []\n",
    "x2 = []\n",
    "y2 = []\n",
    "z2 = []\n",
    "\n",
    "for i in range(0, len(labels)):\n",
    "    if(labels[i] == 0):\n",
    "        x.append(data[i,0])\n",
    "        y.append(data[i,1])\n",
    "        z.append(data[i,2])\n",
    "        \n",
    "    else:\n",
    "        x2.append(data[i,0])\n",
    "        y2.append(data[i,1])\n",
    "        z2.append(data[i,2])\n",
    "\n",
    "cluster1 = go.Scatter3d(\n",
    "    x=x,\n",
    "    y=y,\n",
    "    z=z,\n",
    "    mode='markers',\n",
    "    marker=dict(\n",
    "        size=12,\n",
    "        line=dict(\n",
    "            color='rgba(217, 217, 217, 0.14)',\n",
    "            width=0.5\n",
    "        ),\n",
    "        opacity=0.9\n",
    "    ),\n",
    "    name=\"Cluster 0\"\n",
    ")\n",
    "\n",
    "\n",
    "cluster2 = go.Scatter3d(\n",
    "    x=x2,\n",
    "    y=y2,\n",
    "    z=z2,\n",
    "    mode='markers',\n",
    "    marker=dict(\n",
    "        color='rgb(127, 127, 127)',\n",
    "        size=12,\n",
    "        symbol='circle',\n",
    "        line=dict(\n",
    "            color='rgb(204, 204, 204)',\n",
    "            width=1\n",
    "        ),\n",
    "        opacity=0.9\n",
    "    ),\n",
    "    name=\"Cluster 1\"\n",
    ")\n",
    "data2 = [cluster1, cluster2]\n",
    "layout = go.Layout(\n",
    "    margin=dict(\n",
    "        l=0,\n",
    "        r=0,\n",
    "        b=0,\n",
    "        t=30\n",
    "    )\n",
    ")\n",
    "\n",
    "fig = go.Figure(data=data2, layout=layout)\n",
    "ply.plot(fig, filename='Clusters')\n"
   ]
  },
  {
   "cell_type": "code",
   "execution_count": 8,
   "metadata": {},
   "outputs": [],
   "source": [
    "from scipy.cluster.vq import kmeans"
   ]
  },
  {
   "cell_type": "code",
   "execution_count": 9,
   "metadata": {},
   "outputs": [
    {
     "data": {
      "text/plain": [
       "(array([[0.40979719, 0.6265861 , 0.75798251],\n",
       "        [0.71750237, 0.41500496, 0.28866756]]), 0.3963959879710594)"
      ]
     },
     "execution_count": 9,
     "metadata": {},
     "output_type": "execute_result"
    }
   ],
   "source": [
    "kmeans(data, clust_centers)"
   ]
  },
  {
   "cell_type": "code",
   "execution_count": 10,
   "metadata": {},
   "outputs": [
    {
     "data": {
      "text/plain": [
       "(array([[0.71750237, 0.41500496, 0.28866756],\n",
       "        [0.40979719, 0.6265861 , 0.75798251]]), 0.3963959879710594)"
      ]
     },
     "execution_count": 10,
     "metadata": {},
     "output_type": "execute_result"
    }
   ],
   "source": [
    "kmeans(data, 2)"
   ]
  },
  {
   "cell_type": "code",
   "execution_count": null,
   "metadata": {},
   "outputs": [],
   "source": []
  }
 ],
 "metadata": {
  "kernelspec": {
   "display_name": "Python 3",
   "language": "python",
   "name": "python3"
  },
  "language_info": {
   "codemirror_mode": {
    "name": "ipython",
    "version": 3
   },
   "file_extension": ".py",
   "mimetype": "text/x-python",
   "name": "python",
   "nbconvert_exporter": "python",
   "pygments_lexer": "ipython3",
   "version": "3.6.5"
  }
 },
 "nbformat": 4,
 "nbformat_minor": 2
}
